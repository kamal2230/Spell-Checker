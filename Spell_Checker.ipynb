{
  "nbformat": 4,
  "nbformat_minor": 0,
  "metadata": {
    "colab": {
      "name": "Spell_Checker.ipynb",
      "provenance": []
    },
    "kernelspec": {
      "name": "python3",
      "display_name": "Python 3"
    }
  },
  "cells": [
    {
      "cell_type": "code",
      "metadata": {
        "id": "8aWmUYUUlGKx",
        "colab_type": "code",
        "colab": {}
      },
      "source": [
        "import spacy\n",
        "from spellchecker import SpellChecker\n",
        "import re"
      ],
      "execution_count": 1,
      "outputs": []
    },
    {
      "cell_type": "code",
      "metadata": {
        "id": "Tyunxz5Bm6eB",
        "colab_type": "code",
        "colab": {
          "base_uri": "https://localhost:8080/",
          "height": 756
        },
        "outputId": "5a01a0f0-ea78-4579-cf3a-9fbcf5fa1246"
      },
      "source": [
        "dir(SpellChecker)"
      ],
      "execution_count": 2,
      "outputs": [
        {
          "output_type": "execute_result",
          "data": {
            "text/plain": [
              "['_SpellChecker__edit_distance_alt',\n",
              " '__class__',\n",
              " '__contains__',\n",
              " '__delattr__',\n",
              " '__dir__',\n",
              " '__doc__',\n",
              " '__eq__',\n",
              " '__format__',\n",
              " '__ge__',\n",
              " '__getattribute__',\n",
              " '__getitem__',\n",
              " '__gt__',\n",
              " '__hash__',\n",
              " '__init__',\n",
              " '__init_subclass__',\n",
              " '__le__',\n",
              " '__lt__',\n",
              " '__module__',\n",
              " '__ne__',\n",
              " '__new__',\n",
              " '__reduce__',\n",
              " '__reduce_ex__',\n",
              " '__repr__',\n",
              " '__setattr__',\n",
              " '__sizeof__',\n",
              " '__slots__',\n",
              " '__str__',\n",
              " '__subclasshook__',\n",
              " '_case_sensitive',\n",
              " '_check_if_should_check',\n",
              " '_distance',\n",
              " '_tokenizer',\n",
              " '_word_frequency',\n",
              " 'candidates',\n",
              " 'correction',\n",
              " 'distance',\n",
              " 'edit_distance_1',\n",
              " 'edit_distance_2',\n",
              " 'export',\n",
              " 'known',\n",
              " 'split_words',\n",
              " 'unknown',\n",
              " 'word_frequency',\n",
              " 'word_probability']"
            ]
          },
          "metadata": {
            "tags": []
          },
          "execution_count": 2
        }
      ]
    },
    {
      "cell_type": "code",
      "metadata": {
        "id": "x9RA4RNwm_H6",
        "colab_type": "code",
        "colab": {}
      },
      "source": [
        "spell=SpellChecker()"
      ],
      "execution_count": 3,
      "outputs": []
    },
    {
      "cell_type": "code",
      "metadata": {
        "id": "EaumVuBZpH-q",
        "colab_type": "code",
        "colab": {}
      },
      "source": [
        "docx=\"People have travelled through and inhabited the Toronto area, located on a broad sloping plateau interspersed with rivers, deep ravines, and urban forest, for more than 10,000 years.[18] After the broadly disputed Torronto Purchase, when the Mississauga surrendered the area to the British Crown,[19] the British established the town of York in 1793 and later designeted it as the capital of Upper Canada.[20] During the War of 1812, the town was the site of the Battle of York and suffered heavy damage by American troops.[21] York was renamed and incorporated in 1834 as the city of Toronto. It was designated as the capitel of the province of Ontario in 1867 during Canadian Confederation.[22] The city proper has since expanded past its original borders through both annexation and amalgamation to its current area of 630.2 km2 (243.3 sq mi). The diverse population of Tornto reflects its current and historical role as an important destination for immigrants to Canada.[23][24] More than 50 percent of residants belong to a visible minority population group,[25] and over 200 distinct ethnic origins are represented among its inhabitats.[26] While the majority of Torontonians speak English as their premary language, over 160 languages are spoken in the city.[27] Toront is a prominent center for music,[28] theatre,[29] motion picture production,[30] and tilevision production,[31] and is home to the headquarters of Canada's major notional broadcast networks and media outlets.[32] Its varied caltural institutions,[33] which include numerous museums and gelleries, festivals and public events, entertaiment districts, national historic sites, and sports actevities,[34] attract over 43 million touriets each year.[35][36] Torunto is known for its many skysvrapers and high-rise buildinds,[37] in particalar the tallest free-standind structure in the Western Hemisphere, the CN Tower.\""
      ],
      "execution_count": 4,
      "outputs": []
    },
    {
      "cell_type": "code",
      "metadata": {
        "id": "XMy_KWZ2nGQv",
        "colab_type": "code",
        "colab": {
          "base_uri": "https://localhost:8080/",
          "height": 54
        },
        "outputId": "2c1748da-1643-45ef-ba65-5c31597552a7"
      },
      "source": [
        "docx=re.findall(\"[a-zA-Z]+\",docx)\n",
        "print(docx)\n",
        "\"([{1}[\\d]+]{1}\""
      ],
      "execution_count": 5,
      "outputs": [
        {
          "output_type": "stream",
          "text": [
            "['People', 'have', 'travelled', 'through', 'and', 'inhabited', 'the', 'Toronto', 'area', 'located', 'on', 'a', 'broad', 'sloping', 'plateau', 'interspersed', 'with', 'rivers', 'deep', 'ravines', 'and', 'urban', 'forest', 'for', 'more', 'than', 'years', 'After', 'the', 'broadly', 'disputed', 'Torronto', 'Purchase', 'when', 'the', 'Mississauga', 'surrendered', 'the', 'area', 'to', 'the', 'British', 'Crown', 'the', 'British', 'established', 'the', 'town', 'of', 'York', 'in', 'and', 'later', 'designeted', 'it', 'as', 'the', 'capital', 'of', 'Upper', 'Canada', 'During', 'the', 'War', 'of', 'the', 'town', 'was', 'the', 'site', 'of', 'the', 'Battle', 'of', 'York', 'and', 'suffered', 'heavy', 'damage', 'by', 'American', 'troops', 'York', 'was', 'renamed', 'and', 'incorporated', 'in', 'as', 'the', 'city', 'of', 'Toronto', 'It', 'was', 'designated', 'as', 'the', 'capitel', 'of', 'the', 'province', 'of', 'Ontario', 'in', 'during', 'Canadian', 'Confederation', 'The', 'city', 'proper', 'has', 'since', 'expanded', 'past', 'its', 'original', 'borders', 'through', 'both', 'annexation', 'and', 'amalgamation', 'to', 'its', 'current', 'area', 'of', 'km', 'sq', 'mi', 'The', 'diverse', 'population', 'of', 'Tornto', 'reflects', 'its', 'current', 'and', 'historical', 'role', 'as', 'an', 'important', 'destination', 'for', 'immigrants', 'to', 'Canada', 'More', 'than', 'percent', 'of', 'residants', 'belong', 'to', 'a', 'visible', 'minority', 'population', 'group', 'and', 'over', 'distinct', 'ethnic', 'origins', 'are', 'represented', 'among', 'its', 'inhabitats', 'While', 'the', 'majority', 'of', 'Torontonians', 'speak', 'English', 'as', 'their', 'premary', 'language', 'over', 'languages', 'are', 'spoken', 'in', 'the', 'city', 'Toront', 'is', 'a', 'prominent', 'center', 'for', 'music', 'theatre', 'motion', 'picture', 'production', 'and', 'tilevision', 'production', 'and', 'is', 'home', 'to', 'the', 'headquarters', 'of', 'Canada', 's', 'major', 'notional', 'broadcast', 'networks', 'and', 'media', 'outlets', 'Its', 'varied', 'caltural', 'institutions', 'which', 'include', 'numerous', 'museums', 'and', 'gelleries', 'festivals', 'and', 'public', 'events', 'entertaiment', 'districts', 'national', 'historic', 'sites', 'and', 'sports', 'actevities', 'attract', 'over', 'million', 'touriets', 'each', 'year', 'Torunto', 'is', 'known', 'for', 'its', 'many', 'skysvrapers', 'and', 'high', 'rise', 'buildinds', 'in', 'particalar', 'the', 'tallest', 'free', 'standind', 'structure', 'in', 'the', 'Western', 'Hemisphere', 'the', 'CN', 'Tower']\n"
          ],
          "name": "stdout"
        }
      ]
    },
    {
      "cell_type": "code",
      "metadata": {
        "id": "Uuw5b3T4o0M-",
        "colab_type": "code",
        "colab": {}
      },
      "source": [
        "misspelled = spell.unknown(docx)"
      ],
      "execution_count": 6,
      "outputs": []
    },
    {
      "cell_type": "code",
      "metadata": {
        "id": "efbBbzrlo3pC",
        "colab_type": "code",
        "colab": {
          "base_uri": "https://localhost:8080/",
          "height": 1000
        },
        "outputId": "4e33a3cf-4d9b-4565-e055-1b2b3bbf6e1d"
      },
      "source": [
        "for word in misspelled:\n",
        "    print(word,\"-->\",spell.correction(word))\n",
        "    print(spell.candidates(word),end=\"\\n\\n\")"
      ],
      "execution_count": 7,
      "outputs": [
        {
          "output_type": "stream",
          "text": [
            "tilevision --> television\n",
            "{'television'}\n",
            "\n",
            "gelleries --> galleries\n",
            "{'galleries'}\n",
            "\n",
            "particalar --> particular\n",
            "{'particular'}\n",
            "\n",
            "skysvrapers --> skyscrapers\n",
            "{'skyscrapers'}\n",
            "\n",
            "torontonians --> torontonians\n",
            "{'torontonians'}\n",
            "\n",
            "residants --> residents\n",
            "{'residents'}\n",
            "\n",
            "caltural --> cultural\n",
            "{'cultural'}\n",
            "\n",
            "mississauga --> mississauga\n",
            "{'mississauga'}\n",
            "\n",
            "inhabitats --> inhabitants\n",
            "{'inhabitants'}\n",
            "\n",
            "standind --> standing\n",
            "{\"standin'\", 'standing'}\n",
            "\n",
            "actevities --> activities\n",
            "{'activities'}\n",
            "\n",
            "buildinds --> buildings\n",
            "{'buildings'}\n",
            "\n",
            "capitel --> capital\n",
            "{'capital', 'capitol'}\n",
            "\n",
            "designeted --> designated\n",
            "{'designated'}\n",
            "\n",
            "entertaiment --> entertainment\n",
            "{'entertainment'}\n",
            "\n",
            "toront --> toronto\n",
            "{'toronto'}\n",
            "\n",
            "torronto --> toronto\n",
            "{'toronto'}\n",
            "\n",
            "touriets --> tourists\n",
            "{'tourists'}\n",
            "\n",
            "torunto --> toronto\n",
            "{'toronto'}\n",
            "\n",
            "tornto --> toronto\n",
            "{'toronto', 'tonto'}\n",
            "\n",
            "premary --> primary\n",
            "{'primary'}\n",
            "\n"
          ],
          "name": "stdout"
        }
      ]
    },
    {
      "cell_type": "code",
      "metadata": {
        "id": "JOo3wCOZpQKx",
        "colab_type": "code",
        "colab": {
          "base_uri": "https://localhost:8080/",
          "height": 218
        },
        "outputId": "eeaf3fc4-dcdf-4dc6-d4ce-fb94c3494acb"
      },
      "source": [
        "spell = SpellChecker(language='fr')\n",
        "misspelled = [\"resaissir\", \"matinnée\", \"plonbier\", \"tecnicien\"]\n",
        "misspelled = spell.unknown(misspelled)\n",
        "for word in misspelled:\n",
        "  print(word,\"-->\",spell.correction(word))\n",
        "  print(spell.candidates(word),end=\"\\n\\n\")"
      ],
      "execution_count": 9,
      "outputs": [
        {
          "output_type": "stream",
          "text": [
            "resaissir --> ressaisir\n",
            "{'ressaisir'}\n",
            "\n",
            "plonbier --> plombier\n",
            "{'plombier'}\n",
            "\n",
            "matinnée --> matinée\n",
            "{'matinée'}\n",
            "\n",
            "tecnicien --> technicien\n",
            "{'technicien'}\n",
            "\n"
          ],
          "name": "stdout"
        }
      ]
    },
    {
      "cell_type": "code",
      "metadata": {
        "id": "krtSfu0bIww5",
        "colab_type": "code",
        "colab": {}
      },
      "source": [
        ""
      ],
      "execution_count": null,
      "outputs": []
    }
  ]
}